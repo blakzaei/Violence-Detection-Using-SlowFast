{
 "cells": [
  {
   "cell_type": "code",
   "execution_count": 1,
   "id": "89a54196",
   "metadata": {
    "_cell_guid": "b1076dfc-b9ad-4769-8c92-a6c4dae69d19",
    "_uuid": "8f2839f25d086af736a60e9eeb907d3b93b6e0e5",
    "execution": {
     "iopub.execute_input": "2024-09-29T06:32:51.094344Z",
     "iopub.status.busy": "2024-09-29T06:32:51.093173Z",
     "iopub.status.idle": "2024-09-29T06:32:51.106555Z",
     "shell.execute_reply": "2024-09-29T06:32:51.105378Z"
    },
    "papermill": {
     "duration": 0.022793,
     "end_time": "2024-09-29T06:32:51.109303",
     "exception": false,
     "start_time": "2024-09-29T06:32:51.086510",
     "status": "completed"
    },
    "tags": []
   },
   "outputs": [],
   "source": [
    "#-- Imports ------------------------------------------------------------------------------------------------------\n",
    "import os\n",
    "import shutil\n",
    "import zipfile\n",
    "import random\n",
    "#-----------------------------------------------------------------------------------------------------------------"
   ]
  },
  {
   "cell_type": "code",
   "execution_count": 2,
   "id": "0f87cf7e",
   "metadata": {
    "execution": {
     "iopub.execute_input": "2024-09-29T06:32:51.120393Z",
     "iopub.status.busy": "2024-09-29T06:32:51.119559Z",
     "iopub.status.idle": "2024-09-29T06:32:51.125722Z",
     "shell.execute_reply": "2024-09-29T06:32:51.124445Z"
    },
    "papermill": {
     "duration": 0.014262,
     "end_time": "2024-09-29T06:32:51.128232",
     "exception": false,
     "start_time": "2024-09-29T06:32:51.113970",
     "status": "completed"
    },
    "tags": []
   },
   "outputs": [],
   "source": [
    "#-- Define the folder structure -----------------------------------------------------------------------------------\n",
    "folders = {\n",
    "    \"train\": [\"Violence\", \"NonViolence\"],\n",
    "    \"test\": [\"Violence\", \"NonViolence\"],\n",
    "    \"val\": [\"Violence\", \"NonViolence\"]\n",
    "}\n",
    "#-----------------------------------------------------------------------------------------------------------------"
   ]
  },
  {
   "cell_type": "code",
   "execution_count": 3,
   "id": "a312df36",
   "metadata": {
    "execution": {
     "iopub.execute_input": "2024-09-29T06:32:51.138758Z",
     "iopub.status.busy": "2024-09-29T06:32:51.138299Z",
     "iopub.status.idle": "2024-09-29T06:32:51.146675Z",
     "shell.execute_reply": "2024-09-29T06:32:51.145544Z"
    },
    "papermill": {
     "duration": 0.017031,
     "end_time": "2024-09-29T06:32:51.149635",
     "exception": false,
     "start_time": "2024-09-29T06:32:51.132604",
     "status": "completed"
    },
    "tags": []
   },
   "outputs": [],
   "source": [
    "#-- Create the folder structure ----------------------------------------------------------------------------------\n",
    "base_dir = 'ds'\n",
    "for folder, subfolders in folders.items():\n",
    "    for subfolder in subfolders:\n",
    "        path = os.path.join(base_dir, folder, subfolder)\n",
    "        os.makedirs(path, exist_ok=True)\n",
    "#-----------------------------------------------------------------------------------------------------------------"
   ]
  },
  {
   "cell_type": "code",
   "execution_count": 4,
   "id": "02c54c98",
   "metadata": {
    "execution": {
     "iopub.execute_input": "2024-09-29T06:32:51.161242Z",
     "iopub.status.busy": "2024-09-29T06:32:51.160053Z",
     "iopub.status.idle": "2024-09-29T06:32:51.171677Z",
     "shell.execute_reply": "2024-09-29T06:32:51.170277Z"
    },
    "papermill": {
     "duration": 0.020123,
     "end_time": "2024-09-29T06:32:51.174405",
     "exception": false,
     "start_time": "2024-09-29T06:32:51.154282",
     "status": "completed"
    },
    "tags": []
   },
   "outputs": [
    {
     "name": "stdout",
     "output_type": "stream",
     "text": [
      "ds.zip has been created.\n"
     ]
    }
   ],
   "source": [
    "#-- Create a zip file -------------------------------------------------------------------------------------------\n",
    "zip_file_path = 'ds.zip'\n",
    "with zipfile.ZipFile(zip_file_path, 'w') as data_zip:\n",
    "    for folder, subfolders in folders.items():\n",
    "        for subfolder in subfolders:\n",
    "            folder_path = os.path.join(base_dir, folder, subfolder)\n",
    "            # Add the directory to the zip file\n",
    "            data_zip.write(folder_path, os.path.relpath(folder_path, base_dir))\n",
    "\n",
    "print(f\"{zip_file_path} has been created.\")\n",
    "shutil.rmtree('/kaggle/working/ds')\n",
    "#-----------------------------------------------------------------------------------------------------------------"
   ]
  },
  {
   "cell_type": "code",
   "execution_count": 5,
   "id": "080c8deb",
   "metadata": {
    "execution": {
     "iopub.execute_input": "2024-09-29T06:32:51.184831Z",
     "iopub.status.busy": "2024-09-29T06:32:51.184397Z",
     "iopub.status.idle": "2024-09-29T06:32:51.216506Z",
     "shell.execute_reply": "2024-09-29T06:32:51.215359Z"
    },
    "papermill": {
     "duration": 0.040593,
     "end_time": "2024-09-29T06:32:51.219445",
     "exception": false,
     "start_time": "2024-09-29T06:32:51.178852",
     "status": "completed"
    },
    "tags": []
   },
   "outputs": [],
   "source": [
    "#-- Get List of all Images --------------------------------------------------------------------------------------\n",
    "input_path = '/kaggle/input/'\n",
    "source_dir = input_path + 'novin-fight-detection-slowfast-preprocess'\n",
    "\n",
    "all_v = []\n",
    "all_nv = []\n",
    "\n",
    "folder_path = os.path.join(input_path, source_dir) \n",
    "for file in os.listdir(folder_path):        \n",
    "    if file.endswith('.zip'):  \n",
    "        zip_file_path = os.path.join(folder_path, file)  \n",
    "        with zipfile.ZipFile(zip_file_path, 'r') as zip_ref:                  \n",
    "            for zip_file in zip_ref.namelist():                \n",
    "                if zip_file == 'NonViolence/' or zip_file=='Violence/':\n",
    "                    continue\n",
    "                        \n",
    "                if 'NV' in zip_file:                        \n",
    "                    all_nv.append(f'{source_dir}/{file}/{zip_file}') \n",
    "                        \n",
    "                else:\n",
    "                    all_v.append(f'{source_dir}/{file}/{zip_file}')   \n",
    "#-----------------------------------------------------------------------------------------------------------------"
   ]
  },
  {
   "cell_type": "code",
   "execution_count": 6,
   "id": "71d1ea6d",
   "metadata": {
    "execution": {
     "iopub.execute_input": "2024-09-29T06:32:51.230010Z",
     "iopub.status.busy": "2024-09-29T06:32:51.229615Z",
     "iopub.status.idle": "2024-09-29T06:32:51.236700Z",
     "shell.execute_reply": "2024-09-29T06:32:51.235480Z"
    },
    "papermill": {
     "duration": 0.015418,
     "end_time": "2024-09-29T06:32:51.239291",
     "exception": false,
     "start_time": "2024-09-29T06:32:51.223873",
     "status": "completed"
    },
    "tags": []
   },
   "outputs": [
    {
     "name": "stdout",
     "output_type": "stream",
     "text": [
      "150\n",
      "150\n",
      "Violence: /kaggle/input/novin-fight-detection-slowfast-preprocess/data.zip/Violence/V_952.pth\n",
      "Non-Violence: /kaggle/input/novin-fight-detection-slowfast-preprocess/data.zip/NonViolence/NV_721.pth\n"
     ]
    }
   ],
   "source": [
    "#-- checek -------------------------------------------------------------------------------------------------------\n",
    "print(len(all_v))\n",
    "print(len(all_nv))\n",
    "\n",
    "print('Violence:', all_v[0]) \n",
    "print('Non-Violence:', all_nv[0]) \n",
    "#-----------------------------------------------------------------------------------------------------------------"
   ]
  },
  {
   "cell_type": "code",
   "execution_count": 7,
   "id": "c2b0db3a",
   "metadata": {
    "execution": {
     "iopub.execute_input": "2024-09-29T06:32:51.249882Z",
     "iopub.status.busy": "2024-09-29T06:32:51.249481Z",
     "iopub.status.idle": "2024-09-29T06:32:51.259507Z",
     "shell.execute_reply": "2024-09-29T06:32:51.258286Z"
    },
    "papermill": {
     "duration": 0.019219,
     "end_time": "2024-09-29T06:32:51.262955",
     "exception": false,
     "start_time": "2024-09-29T06:32:51.243736",
     "status": "completed"
    },
    "tags": []
   },
   "outputs": [
    {
     "name": "stdout",
     "output_type": "stream",
     "text": [
      "ds_train_v: 105\n",
      "ds_val_v: 30\n",
      "ds_test_v: 15\n",
      "ds_train_nv: 105\n",
      "ds_val_nv: 30\n",
      "ds_test_nv: 15\n"
     ]
    }
   ],
   "source": [
    "#-- get only 150 samples for each class (because of memory limitation) -------------------------------------------\n",
    "random.seed(42)\n",
    "random.shuffle(all_v)\n",
    "random.shuffle(all_nv)\n",
    "\n",
    "\n",
    "ds_train_v = all_v[0:105]\n",
    "ds_val_v = all_v[105:135]\n",
    "ds_test_v = all_v[135:]\n",
    "\n",
    "ds_train_nv = all_nv[0:105]\n",
    "ds_val_nv = all_nv[105:135]\n",
    "ds_test_nv = all_nv[135:]\n",
    "\n",
    "print('ds_train_v:', len(ds_train_v)) \n",
    "print('ds_val_v:', len(ds_val_v)) \n",
    "print('ds_test_v:', len(ds_test_v)) \n",
    "print('ds_train_nv:', len(ds_train_nv)) \n",
    "print('ds_val_nv:', len(ds_val_nv)) \n",
    "print('ds_test_nv:', len(ds_test_nv)) \n",
    "#-----------------------------------------------------------------------------------------------------------------"
   ]
  },
  {
   "cell_type": "code",
   "execution_count": 8,
   "id": "9abbd981",
   "metadata": {
    "execution": {
     "iopub.execute_input": "2024-09-29T06:32:51.273877Z",
     "iopub.status.busy": "2024-09-29T06:32:51.273479Z",
     "iopub.status.idle": "2024-09-29T06:32:51.283808Z",
     "shell.execute_reply": "2024-09-29T06:32:51.282711Z"
    },
    "papermill": {
     "duration": 0.019239,
     "end_time": "2024-09-29T06:32:51.286815",
     "exception": false,
     "start_time": "2024-09-29T06:32:51.267576",
     "status": "completed"
    },
    "tags": []
   },
   "outputs": [],
   "source": [
    "#-- Function to copy images from source zip file to destination zip file -----------------------------------------\n",
    "def Copy_files(ds_input , target_dir):\n",
    "    \n",
    "    counter = 0\n",
    "    for img in ds_input:\n",
    "        counter += 1      \n",
    "        \n",
    "        if counter%100 == 0:\n",
    "            print(f'copy file number {counter} ----------- ')           \n",
    "                \n",
    "        index = img.rfind('.zip')          \n",
    "        data_zip_path = img[0:index+4]               \n",
    "        ds_zip_path = '/kaggle/working/ds.zip' \n",
    "        \n",
    "        index = img.rfind('/')        \n",
    "        img_name = img[index+1:]       \n",
    "        \n",
    "        if 'NV' in img_name:                   \n",
    "            img_name = 'NonViolence/' + img_name\n",
    "        else:            \n",
    "            img_name = 'Violence/' + img_name\n",
    "        \n",
    "        with zipfile.ZipFile(data_zip_path, 'r') as data_zip, zipfile.ZipFile(ds_zip_path, 'a') as ds_zip:    \n",
    "            with data_zip.open(img_name) as source_file:   \n",
    "                file_name = os.path.basename(img_name)  \n",
    "                target_path = os.path.join(target_dir, file_name)                    \n",
    "                ds_zip.writestr(target_path, source_file.read())\n",
    "#-----------------------------------------------------------------------------------------------------------------"
   ]
  },
  {
   "cell_type": "code",
   "execution_count": 9,
   "id": "47908f22",
   "metadata": {
    "execution": {
     "iopub.execute_input": "2024-09-29T06:32:51.298709Z",
     "iopub.status.busy": "2024-09-29T06:32:51.298253Z",
     "iopub.status.idle": "2024-09-29T06:36:06.488418Z",
     "shell.execute_reply": "2024-09-29T06:36:06.484366Z"
    },
    "papermill": {
     "duration": 195.204977,
     "end_time": "2024-09-29T06:36:06.496519",
     "exception": false,
     "start_time": "2024-09-29T06:32:51.291542",
     "status": "completed"
    },
    "tags": []
   },
   "outputs": [
    {
     "name": "stdout",
     "output_type": "stream",
     "text": [
      "copy file number 100 ----------- \n",
      "copy file number 100 ----------- \n"
     ]
    }
   ],
   "source": [
    "#-- Copy images from source to destination -----------------------------------------------------------------------\n",
    "Copy_files(ds_input = ds_train_v,\n",
    "           target_dir= 'train/Violence/' )\n",
    "Copy_files(ds_input = ds_train_nv,\n",
    "           target_dir= 'train/NonViolence/' )\n",
    "\n",
    "Copy_files(ds_input = ds_val_v,\n",
    "           target_dir= 'val/Violence/' )\n",
    "Copy_files(ds_input = ds_val_nv,\n",
    "           target_dir= 'val/NonViolence/' )\n",
    "\n",
    "Copy_files(ds_input = ds_test_v,\n",
    "           target_dir= 'test/Violence/' )\n",
    "Copy_files(ds_input = ds_test_nv,\n",
    "           target_dir= 'test/NonViolence/' )\n",
    "#-----------------------------------------------------------------------------------------------------------------"
   ]
  }
 ],
 "metadata": {
  "kaggle": {
   "accelerator": "none",
   "dataSources": [
    {
     "sourceId": 198729163,
     "sourceType": "kernelVersion"
    }
   ],
   "dockerImageVersionId": 30775,
   "isGpuEnabled": false,
   "isInternetEnabled": true,
   "language": "python",
   "sourceType": "notebook"
  },
  "kernelspec": {
   "display_name": "Python 3",
   "language": "python",
   "name": "python3"
  },
  "language_info": {
   "codemirror_mode": {
    "name": "ipython",
    "version": 3
   },
   "file_extension": ".py",
   "mimetype": "text/x-python",
   "name": "python",
   "nbconvert_exporter": "python",
   "pygments_lexer": "ipython3",
   "version": "3.10.14"
  },
  "papermill": {
   "default_parameters": {},
   "duration": 199.641915,
   "end_time": "2024-09-29T06:36:07.460394",
   "environment_variables": {},
   "exception": null,
   "input_path": "__notebook__.ipynb",
   "output_path": "__notebook__.ipynb",
   "parameters": {},
   "start_time": "2024-09-29T06:32:47.818479",
   "version": "2.6.0"
  }
 },
 "nbformat": 4,
 "nbformat_minor": 5
}
