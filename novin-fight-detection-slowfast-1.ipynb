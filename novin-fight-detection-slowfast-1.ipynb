{
 "cells": [
  {
   "cell_type": "code",
   "execution_count": 1,
   "id": "30fc539b",
   "metadata": {
    "execution": {
     "iopub.execute_input": "2024-09-29T09:05:43.180293Z",
     "iopub.status.busy": "2024-09-29T09:05:43.179410Z",
     "iopub.status.idle": "2024-09-29T09:06:16.224312Z",
     "shell.execute_reply": "2024-09-29T09:06:16.223299Z"
    },
    "papermill": {
     "duration": 33.054378,
     "end_time": "2024-09-29T09:06:16.226371",
     "exception": false,
     "start_time": "2024-09-29T09:05:43.171993",
     "status": "completed"
    },
    "tags": []
   },
   "outputs": [],
   "source": [
    "#-- Install Libraries -------------------------------------------------------------------------------------------\n",
    "!pip install torchsummary\n",
    "!pip install pytorchvideo\n",
    "\n",
    "from IPython import display\n",
    "display.clear_output()\n",
    "#-----------------------------------------------------------------------------------------------------------------"
   ]
  },
  {
   "cell_type": "code",
   "execution_count": 2,
   "id": "44b05ec0",
   "metadata": {
    "execution": {
     "iopub.execute_input": "2024-09-29T09:06:16.239069Z",
     "iopub.status.busy": "2024-09-29T09:06:16.238468Z",
     "iopub.status.idle": "2024-09-29T09:06:21.036318Z",
     "shell.execute_reply": "2024-09-29T09:06:21.035328Z"
    },
    "papermill": {
     "duration": 4.806649,
     "end_time": "2024-09-29T09:06:21.038675",
     "exception": false,
     "start_time": "2024-09-29T09:06:16.232026",
     "status": "completed"
    },
    "tags": []
   },
   "outputs": [],
   "source": [
    "#-- Imports ------------------------------------------------------------------------------------------------------\n",
    "import torch\n",
    "\n",
    "import torch.nn as nn\n",
    "import torch.nn.functional as F\n",
    "import torch.optim as optim\n",
    "from torch.utils.data import Dataset, DataLoader\n",
    "\n",
    "import torchvision\n",
    "import torchvision.transforms as transforms\n",
    "\n",
    "from torchsummary import summary\n",
    "\n",
    "import cv2\n",
    "import matplotlib.pyplot as plt\n",
    "\n",
    "import numpy as np\n",
    "import random\n",
    "\n",
    "import os\n",
    "import shutil\n",
    "import copy\n",
    "\n",
    "from glob import glob\n",
    "#-----------------------------------------------------------------------------------------------------------------"
   ]
  },
  {
   "cell_type": "code",
   "execution_count": 3,
   "id": "efa1b653",
   "metadata": {
    "execution": {
     "iopub.execute_input": "2024-09-29T09:06:21.050907Z",
     "iopub.status.busy": "2024-09-29T09:06:21.050454Z",
     "iopub.status.idle": "2024-09-29T09:06:21.134146Z",
     "shell.execute_reply": "2024-09-29T09:06:21.132995Z"
    },
    "papermill": {
     "duration": 0.091956,
     "end_time": "2024-09-29T09:06:21.136245",
     "exception": false,
     "start_time": "2024-09-29T09:06:21.044289",
     "status": "completed"
    },
    "tags": []
   },
   "outputs": [
    {
     "name": "stdout",
     "output_type": "stream",
     "text": [
      "device: cuda\n"
     ]
    }
   ],
   "source": [
    "#-- Initialize ---------------------------------------------------------------------------------------------------\n",
    "ds_zip_path = '/kaggle/input/novin-fight-detection-slowfast-split-ds/ds.zip'\n",
    "ds_unzip_path = '/kaggle/working/data/'\n",
    "\n",
    "DEVICE = torch.device('cuda' if torch.cuda.is_available() else 'cpu')\n",
    "print(f'device: {DEVICE}')\n",
    "\n",
    "BATCH_SIZE = 4\n",
    "NUM_EPOCHS = 50\n",
    "#-----------------------------------------------------------------------------------------------------------------"
   ]
  },
  {
   "cell_type": "code",
   "execution_count": 4,
   "id": "360495f8",
   "metadata": {
    "execution": {
     "iopub.execute_input": "2024-09-29T09:06:21.148344Z",
     "iopub.status.busy": "2024-09-29T09:06:21.148007Z",
     "iopub.status.idle": "2024-09-29T09:08:02.692838Z",
     "shell.execute_reply": "2024-09-29T09:08:02.691742Z"
    },
    "papermill": {
     "duration": 101.55394,
     "end_time": "2024-09-29T09:08:02.695688",
     "exception": false,
     "start_time": "2024-09-29T09:06:21.141748",
     "status": "completed"
    },
    "tags": []
   },
   "outputs": [],
   "source": [
    "#-- unzip data ---------------------------------------------------------------------------------------------------\n",
    "shutil.unpack_archive(ds_zip_path, ds_unzip_path, 'zip')\n",
    "#-----------------------------------------------------------------------------------------------------------------"
   ]
  },
  {
   "cell_type": "code",
   "execution_count": 5,
   "id": "19b45491",
   "metadata": {
    "execution": {
     "iopub.execute_input": "2024-09-29T09:08:02.718881Z",
     "iopub.status.busy": "2024-09-29T09:08:02.718546Z",
     "iopub.status.idle": "2024-09-29T09:08:02.725803Z",
     "shell.execute_reply": "2024-09-29T09:08:02.724895Z"
    },
    "papermill": {
     "duration": 0.016019,
     "end_time": "2024-09-29T09:08:02.727979",
     "exception": false,
     "start_time": "2024-09-29T09:08:02.711960",
     "status": "completed"
    },
    "tags": []
   },
   "outputs": [],
   "source": [
    "#-- Function to count number of samples is ds --------------------------------------------------------------------\n",
    "def count_samples(data_dir):\n",
    "    counts = {}\n",
    "    \n",
    "    for subset in ['train', 'val', 'test']:\n",
    "        subset_path = os.path.join(data_dir, subset)\n",
    "        counts[subset] = {}\n",
    "        \n",
    "        for category in ['Violence', 'NonViolence']:\n",
    "            category_path = os.path.join(subset_path, category)\n",
    "            num_samples = len(os.listdir(category_path))\n",
    "            counts[subset][category] = num_samples\n",
    "    \n",
    "    return counts\n",
    "#-----------------------------------------------------------------------------------------------------------------"
   ]
  },
  {
   "cell_type": "code",
   "execution_count": 6,
   "id": "e8f79a4b",
   "metadata": {
    "execution": {
     "iopub.execute_input": "2024-09-29T09:08:02.740056Z",
     "iopub.status.busy": "2024-09-29T09:08:02.739765Z",
     "iopub.status.idle": "2024-09-29T09:08:02.745990Z",
     "shell.execute_reply": "2024-09-29T09:08:02.745031Z"
    },
    "papermill": {
     "duration": 0.014526,
     "end_time": "2024-09-29T09:08:02.747931",
     "exception": false,
     "start_time": "2024-09-29T09:08:02.733405",
     "status": "completed"
    },
    "tags": []
   },
   "outputs": [
    {
     "name": "stdout",
     "output_type": "stream",
     "text": [
      "train set:\n",
      "  Violence: 105 samples\n",
      "  NonViolence: 105 samples\n",
      "val set:\n",
      "  Violence: 30 samples\n",
      "  NonViolence: 30 samples\n",
      "test set:\n",
      "  Violence: 15 samples\n",
      "  NonViolence: 15 samples\n"
     ]
    }
   ],
   "source": [
    "#-- Dataset size -------------------------------------------------------------------------------------------------\n",
    "sample_counts = count_samples(ds_unzip_path)\n",
    "\n",
    "# Print the sample counts\n",
    "for subset, categories in sample_counts.items():\n",
    "    print(f\"{subset} set:\")\n",
    "    for category, count in categories.items():\n",
    "        print(f\"  {category}: {count} samples\")\n",
    "#-----------------------------------------------------------------------------------------------------------------"
   ]
  },
  {
   "cell_type": "code",
   "execution_count": 7,
   "id": "6df9ba6d",
   "metadata": {
    "execution": {
     "iopub.execute_input": "2024-09-29T09:08:02.760372Z",
     "iopub.status.busy": "2024-09-29T09:08:02.760064Z",
     "iopub.status.idle": "2024-09-29T09:08:02.768325Z",
     "shell.execute_reply": "2024-09-29T09:08:02.767546Z"
    },
    "papermill": {
     "duration": 0.016694,
     "end_time": "2024-09-29T09:08:02.770181",
     "exception": false,
     "start_time": "2024-09-29T09:08:02.753487",
     "status": "completed"
    },
    "tags": []
   },
   "outputs": [],
   "source": [
    "#-- Dataset class for loading the videos ------------------------------------------------------------------------\n",
    "class VideoDataset(Dataset):\n",
    "    def __init__(self, root_dir, transform=None):\n",
    "        self.root_dir = root_dir\n",
    "        self.transform = transform\n",
    "        self.classes = ['Violence', 'NonViolence']\n",
    "        self.frame_paths = []\n",
    "        self.labels = []\n",
    "\n",
    "        \n",
    "        for label, class_name in enumerate(self.classes): \n",
    "            \n",
    "            class_dir = os.path.join(root_dir, class_name)\n",
    "            for frame_file in os.listdir(class_dir):\n",
    "                frame_path = os.path.join(class_dir, frame_file)\n",
    "                self.frame_paths.append(frame_path)\n",
    "                self.labels.append(label)\n",
    "                \n",
    "                \n",
    "                \n",
    "\n",
    "    def __len__(self):\n",
    "        return len(self.frame_paths)\n",
    "\n",
    "    def __getitem__(self, idx):\n",
    "        frame_path = self.frame_paths[idx]\n",
    "        label = self.labels[idx]\n",
    "\n",
    "        frames = torch.load(frame_path, weights_only=False)\n",
    "\n",
    "        if self.transform:\n",
    "            frames = self.transform(frames)\n",
    "\n",
    "        return frames, torch.tensor(label, dtype=torch.long)\n",
    "#-----------------------------------------------------------------------------------------------------------------"
   ]
  },
  {
   "cell_type": "code",
   "execution_count": 8,
   "id": "463fbbe3",
   "metadata": {
    "execution": {
     "iopub.execute_input": "2024-09-29T09:08:02.782075Z",
     "iopub.status.busy": "2024-09-29T09:08:02.781792Z",
     "iopub.status.idle": "2024-09-29T09:08:02.789299Z",
     "shell.execute_reply": "2024-09-29T09:08:02.788627Z"
    },
    "papermill": {
     "duration": 0.015753,
     "end_time": "2024-09-29T09:08:02.791393",
     "exception": false,
     "start_time": "2024-09-29T09:08:02.775640",
     "status": "completed"
    },
    "tags": []
   },
   "outputs": [],
   "source": [
    "#-- Load Data ----------------------------------------------------------------------------------------------------\n",
    "#-- Set the paths to dataset --\n",
    "train_dir = ds_unzip_path + 'train'\n",
    "val_dir = ds_unzip_path + 'val'\n",
    "test_dir = ds_unzip_path + 'test'\n",
    "\n",
    "#-- Create datasets for train, val, and test --\n",
    "train_dataset = VideoDataset(root_dir=train_dir)\n",
    "val_dataset = VideoDataset(root_dir=val_dir)\n",
    "test_dataset = VideoDataset(root_dir=test_dir)\n",
    "\n",
    "#-- Create DataLoaders --\n",
    "train_loader = DataLoader(train_dataset, batch_size=BATCH_SIZE, shuffle=True, num_workers=4)\n",
    "val_loader = DataLoader(val_dataset, batch_size=BATCH_SIZE, shuffle=False, num_workers=4)\n",
    "test_loader = DataLoader(test_dataset, batch_size=BATCH_SIZE, shuffle=False, num_workers=4)\n",
    "#-----------------------------------------------------------------------------------------------------------------"
   ]
  },
  {
   "cell_type": "code",
   "execution_count": 9,
   "id": "61dca38b",
   "metadata": {
    "execution": {
     "iopub.execute_input": "2024-09-29T09:08:02.803787Z",
     "iopub.status.busy": "2024-09-29T09:08:02.803138Z",
     "iopub.status.idle": "2024-09-29T09:08:05.941598Z",
     "shell.execute_reply": "2024-09-29T09:08:05.940384Z"
    },
    "papermill": {
     "duration": 3.14716,
     "end_time": "2024-09-29T09:08:05.944095",
     "exception": false,
     "start_time": "2024-09-29T09:08:02.796935",
     "status": "completed"
    },
    "tags": []
   },
   "outputs": [
    {
     "name": "stdout",
     "output_type": "stream",
     "text": [
      "torch.Size([4, 3, 8, 256, 256]) torch.Size([4, 3, 32, 256, 256]) torch.Size([4])\n",
      "2\n"
     ]
    }
   ],
   "source": [
    "#-- Check Data Loaders -------------------------------------------------------------------------------------------\n",
    "for i, (videos, labels) in enumerate(train_loader):\n",
    "        print(videos[0].shape, videos[1].shape, labels.shape)\n",
    "        print(len(videos))\n",
    "        break\n",
    "#-----------------------------------------------------------------------------------------------------------------"
   ]
  },
  {
   "cell_type": "code",
   "execution_count": 10,
   "id": "bd4ba7b3",
   "metadata": {
    "execution": {
     "iopub.execute_input": "2024-09-29T09:08:05.957332Z",
     "iopub.status.busy": "2024-09-29T09:08:05.956985Z",
     "iopub.status.idle": "2024-09-29T09:08:05.963181Z",
     "shell.execute_reply": "2024-09-29T09:08:05.962296Z"
    },
    "papermill": {
     "duration": 0.014924,
     "end_time": "2024-09-29T09:08:05.965172",
     "exception": false,
     "start_time": "2024-09-29T09:08:05.950248",
     "status": "completed"
    },
    "tags": []
   },
   "outputs": [
    {
     "name": "stdout",
     "output_type": "stream",
     "text": [
      "Number of train samples in the DataLoader: 210\n",
      "Number of val samples in the DataLoader: 60\n",
      "Number of test samples in the DataLoader: 30\n"
     ]
    }
   ],
   "source": [
    "num__train_samples = len(train_loader.dataset)\n",
    "num__val_samples = len(val_loader.dataset)\n",
    "num__test_samples = len(test_loader.dataset)\n",
    "\n",
    "print(f'Number of train samples in the DataLoader: {num__train_samples}')\n",
    "print(f'Number of val samples in the DataLoader: {num__val_samples}')\n",
    "print(f'Number of test samples in the DataLoader: {num__test_samples}')"
   ]
  },
  {
   "cell_type": "code",
   "execution_count": 11,
   "id": "1b0052f5",
   "metadata": {
    "execution": {
     "iopub.execute_input": "2024-09-29T09:08:05.977489Z",
     "iopub.status.busy": "2024-09-29T09:08:05.977202Z",
     "iopub.status.idle": "2024-09-29T09:08:05.982752Z",
     "shell.execute_reply": "2024-09-29T09:08:05.981934Z"
    },
    "papermill": {
     "duration": 0.01377,
     "end_time": "2024-09-29T09:08:05.984560",
     "exception": false,
     "start_time": "2024-09-29T09:08:05.970790",
     "status": "completed"
    },
    "tags": []
   },
   "outputs": [],
   "source": [
    "#-- Function to Modify SlowFast for finetuning ------------------------------------------------------------------------\n",
    "def custome_SlowFast(num_classes):\n",
    "    #-- load SlowFast model --\n",
    "    model_name = 'slowfast_r50'\n",
    "    model = torch.hub.load('facebookresearch/pytorchvideo', model_name, pretrained=True)   \n",
    "    \n",
    "     # Freeze all layers \n",
    "    for param in model.parameters():\n",
    "        param.requires_grad = False\n",
    "    \n",
    "    #-- set last layer for binary classification --\n",
    "    input_size = model.blocks[-1].proj.in_features\n",
    "    model.blocks[-1].proj = nn.Linear(in_features=input_size, out_features=num_classes)   \n",
    "\n",
    "    return model\n",
    "#-----------------------------------------------------------------------------------------------------------------"
   ]
  },
  {
   "cell_type": "code",
   "execution_count": 12,
   "id": "95f9f271",
   "metadata": {
    "execution": {
     "iopub.execute_input": "2024-09-29T09:08:05.996832Z",
     "iopub.status.busy": "2024-09-29T09:08:05.996536Z",
     "iopub.status.idle": "2024-09-29T09:08:06.003793Z",
     "shell.execute_reply": "2024-09-29T09:08:06.002943Z"
    },
    "papermill": {
     "duration": 0.015408,
     "end_time": "2024-09-29T09:08:06.005616",
     "exception": false,
     "start_time": "2024-09-29T09:08:05.990208",
     "status": "completed"
    },
    "tags": []
   },
   "outputs": [],
   "source": [
    "#-- Function to Train Model --------------------------------------------------------------------------------------\n",
    "def train(model, loader, optimizer, criterion):\n",
    "    model.train()\n",
    "    \n",
    "    running_loss = 0.0\n",
    "    correct = 0\n",
    "    total = 0\n",
    "    \n",
    "    for inputs, labels in loader:\n",
    "        \n",
    "        slow_pathway, fast_pathway = inputs\n",
    "        slow_pathway, fast_pathway, labels = slow_pathway.to(DEVICE), fast_pathway.to(DEVICE), labels.to(DEVICE)        \n",
    "\n",
    "        optimizer.zero_grad()\n",
    "        outputs = model([slow_pathway, fast_pathway])       \n",
    "        \n",
    "        loss = criterion(outputs, labels)\n",
    "        loss.backward()\n",
    "        optimizer.step()\n",
    "\n",
    "        running_loss += loss.item()\n",
    "        _, predicted = outputs.max(1)\n",
    "        total += labels.size(0)\n",
    "        correct += predicted.eq(labels).sum().item()\n",
    "        \n",
    "\n",
    "    loss = running_loss / len(loader)\n",
    "    accuracy = correct / total\n",
    "    return loss , accuracy\n",
    "#-----------------------------------------------------------------------------------------------------------------"
   ]
  },
  {
   "cell_type": "code",
   "execution_count": 13,
   "id": "8cf52f0c",
   "metadata": {
    "execution": {
     "iopub.execute_input": "2024-09-29T09:08:06.017877Z",
     "iopub.status.busy": "2024-09-29T09:08:06.017601Z",
     "iopub.status.idle": "2024-09-29T09:08:06.024602Z",
     "shell.execute_reply": "2024-09-29T09:08:06.023780Z"
    },
    "papermill": {
     "duration": 0.015095,
     "end_time": "2024-09-29T09:08:06.026430",
     "exception": false,
     "start_time": "2024-09-29T09:08:06.011335",
     "status": "completed"
    },
    "tags": []
   },
   "outputs": [],
   "source": [
    "#-- Function to Evaluate Model -----------------------------------------------------------------------------------\n",
    "def evaluate(model, loader, criterion):\n",
    "    model.eval()\n",
    "    \n",
    "    correct = 0\n",
    "    total = 0\n",
    "    running_loss = 0.0\n",
    "\n",
    "    with torch.no_grad():\n",
    "        for inputs, labels in loader:\n",
    "            slow_pathway, fast_pathway = inputs\n",
    "            slow_pathway, fast_pathway, labels = slow_pathway.to(DEVICE), fast_pathway.to(DEVICE), labels.to(DEVICE)        \n",
    "\n",
    "            outputs = model([slow_pathway, fast_pathway])                 \n",
    "            loss = criterion(outputs, labels)\n",
    "\n",
    "            running_loss += loss.item()\n",
    "            _, predicted = torch.max(outputs.data, 1)\n",
    "            total += labels.size(0)\n",
    "            correct += (predicted == labels).sum().item()\n",
    "\n",
    "    loss = running_loss / len(loader)\n",
    "    acc = correct / total\n",
    "    return loss , acc\n",
    "#-----------------------------------------------------------------------------------------------------------------"
   ]
  },
  {
   "cell_type": "code",
   "execution_count": 14,
   "id": "f00c62cb",
   "metadata": {
    "execution": {
     "iopub.execute_input": "2024-09-29T09:08:06.038650Z",
     "iopub.status.busy": "2024-09-29T09:08:06.038129Z",
     "iopub.status.idle": "2024-09-29T09:08:09.957571Z",
     "shell.execute_reply": "2024-09-29T09:08:09.956670Z"
    },
    "papermill": {
     "duration": 3.92802,
     "end_time": "2024-09-29T09:08:09.959960",
     "exception": false,
     "start_time": "2024-09-29T09:08:06.031940",
     "status": "completed"
    },
    "tags": []
   },
   "outputs": [
    {
     "name": "stderr",
     "output_type": "stream",
     "text": [
      "Downloading: \"https://github.com/facebookresearch/pytorchvideo/zipball/main\" to /root/.cache/torch/hub/main.zip\n",
      "Downloading: \"https://dl.fbaipublicfiles.com/pytorchvideo/model_zoo/kinetics/SLOWFAST_8x8_R50.pyth\" to /root/.cache/torch/hub/checkpoints/SLOWFAST_8x8_R50.pyth\n",
      "100%|██████████| 264M/264M [00:00<00:00, 306MB/s]\n"
     ]
    }
   ],
   "source": [
    "#-- Create and Initialize Model and its Params -------------------------------------------------------------------\n",
    "num_classes = 2  # For Fighting and Normal\n",
    "model = custome_SlowFast(num_classes).to(DEVICE)\n",
    "\n",
    "\n",
    "optimizer = torch.optim.Adam(model.parameters(), lr=0.001)\n",
    "criterion = nn.CrossEntropyLoss()\n",
    "#-----------------------------------------------------------------------------------------------------------------"
   ]
  },
  {
   "cell_type": "code",
   "execution_count": 15,
   "id": "aef9447c",
   "metadata": {
    "execution": {
     "iopub.execute_input": "2024-09-29T09:08:09.975336Z",
     "iopub.status.busy": "2024-09-29T09:08:09.974995Z",
     "iopub.status.idle": "2024-09-29T09:08:09.979479Z",
     "shell.execute_reply": "2024-09-29T09:08:09.978777Z"
    },
    "papermill": {
     "duration": 0.014175,
     "end_time": "2024-09-29T09:08:09.981338",
     "exception": false,
     "start_time": "2024-09-29T09:08:09.967163",
     "status": "completed"
    },
    "tags": []
   },
   "outputs": [],
   "source": [
    "#-- Display the model summary ------------------------------------------------------------------------------------\n",
    "# summary(model, input_size=(3,16,256,256), device=DEVICE.type, batch_size=-1)\n",
    "# print(model)\n",
    "#-----------------------------------------------------------------------------------------------------------------"
   ]
  },
  {
   "cell_type": "code",
   "execution_count": 16,
   "id": "dd86c1b5",
   "metadata": {
    "execution": {
     "iopub.execute_input": "2024-09-29T09:08:09.996026Z",
     "iopub.status.busy": "2024-09-29T09:08:09.995734Z",
     "iopub.status.idle": "2024-09-29T09:28:48.704855Z",
     "shell.execute_reply": "2024-09-29T09:28:48.703682Z"
    },
    "papermill": {
     "duration": 1238.728284,
     "end_time": "2024-09-29T09:28:48.716368",
     "exception": false,
     "start_time": "2024-09-29T09:08:09.988084",
     "status": "completed"
    },
    "tags": []
   },
   "outputs": [
    {
     "name": "stdout",
     "output_type": "stream",
     "text": [
      "Epoch 1/50, Train Loss: 0.4450, Train ACC: 0.7810, Val Loss: 0.1898, Val ACC: 0.9500\n",
      "Epoch 2/50, Train Loss: 0.2259, Train ACC: 0.9429, Val Loss: 0.1358, Val ACC: 0.9667\n",
      "Epoch 3/50, Train Loss: 0.1695, Train ACC: 0.9476, Val Loss: 0.1693, Val ACC: 0.9500\n",
      "Epoch 4/50, Train Loss: 0.1771, Train ACC: 0.9429, Val Loss: 0.1221, Val ACC: 0.9500\n",
      "Epoch 5/50, Train Loss: 0.1300, Train ACC: 0.9714, Val Loss: 0.1354, Val ACC: 0.9500\n",
      "Epoch 6/50, Train Loss: 0.1225, Train ACC: 0.9619, Val Loss: 0.1185, Val ACC: 0.9500\n",
      "Epoch 7/50, Train Loss: 0.1260, Train ACC: 0.9476, Val Loss: 0.1173, Val ACC: 0.9500\n",
      "Epoch 8/50, Train Loss: 0.1358, Train ACC: 0.9571, Val Loss: 0.1508, Val ACC: 0.9333\n",
      "Epoch 9/50, Train Loss: 0.0867, Train ACC: 0.9762, Val Loss: 0.1444, Val ACC: 0.9500\n",
      "Epoch 10/50, Train Loss: 0.1368, Train ACC: 0.9524, Val Loss: 0.1617, Val ACC: 0.9333\n",
      "Epoch 11/50, Train Loss: 0.0983, Train ACC: 0.9667, Val Loss: 0.1949, Val ACC: 0.9333\n",
      "Epoch 12/50, Train Loss: 0.0732, Train ACC: 0.9810, Val Loss: 0.1664, Val ACC: 0.9500\n",
      "Epoch 13/50, Train Loss: 0.0499, Train ACC: 1.0000, Val Loss: 0.1714, Val ACC: 0.9500\n",
      "Epoch 14/50, Train Loss: 0.0769, Train ACC: 0.9810, Val Loss: 0.1770, Val ACC: 0.9333\n",
      "Epoch 15/50, Train Loss: 0.0828, Train ACC: 0.9762, Val Loss: 0.2476, Val ACC: 0.9167\n",
      "Epoch 16/50, Train Loss: 0.0873, Train ACC: 0.9667, Val Loss: 0.1613, Val ACC: 0.9333\n",
      "Epoch 17/50, Train Loss: 0.1020, Train ACC: 0.9619, Val Loss: 0.1479, Val ACC: 0.9500\n",
      "Epoch 18/50, Train Loss: 0.0611, Train ACC: 0.9762, Val Loss: 0.1834, Val ACC: 0.9333\n",
      "Epoch 19/50, Train Loss: 0.0374, Train ACC: 0.9952, Val Loss: 0.1505, Val ACC: 0.9500\n",
      "Epoch 20/50, Train Loss: 0.0692, Train ACC: 0.9810, Val Loss: 0.1528, Val ACC: 0.9500\n",
      "Epoch 21/50, Train Loss: 0.0449, Train ACC: 0.9857, Val Loss: 0.2058, Val ACC: 0.9333\n",
      "Epoch 22/50, Train Loss: 0.0681, Train ACC: 0.9952, Val Loss: 0.1847, Val ACC: 0.9333\n",
      "Epoch 23/50, Train Loss: 0.0591, Train ACC: 0.9714, Val Loss: 0.2366, Val ACC: 0.9167\n",
      "Epoch 24/50, Train Loss: 0.0421, Train ACC: 0.9857, Val Loss: 0.1721, Val ACC: 0.9333\n",
      "Epoch 25/50, Train Loss: 0.0422, Train ACC: 0.9857, Val Loss: 0.2135, Val ACC: 0.9167\n",
      "Epoch 26/50, Train Loss: 0.0699, Train ACC: 0.9714, Val Loss: 0.2334, Val ACC: 0.9167\n",
      "Epoch 27/50, Train Loss: 0.0533, Train ACC: 0.9857, Val Loss: 0.1953, Val ACC: 0.9167\n",
      "Epoch 28/50, Train Loss: 0.0447, Train ACC: 0.9857, Val Loss: 0.1987, Val ACC: 0.9333\n",
      "Epoch 29/50, Train Loss: 0.0373, Train ACC: 0.9952, Val Loss: 0.1889, Val ACC: 0.9167\n",
      "Epoch 30/50, Train Loss: 0.0276, Train ACC: 0.9952, Val Loss: 0.2114, Val ACC: 0.9167\n",
      "Epoch 31/50, Train Loss: 0.0295, Train ACC: 0.9952, Val Loss: 0.2378, Val ACC: 0.9000\n",
      "Epoch 32/50, Train Loss: 0.0499, Train ACC: 0.9810, Val Loss: 0.2168, Val ACC: 0.9167\n",
      "Epoch 33/50, Train Loss: 0.0432, Train ACC: 0.9857, Val Loss: 0.2302, Val ACC: 0.9500\n",
      "Epoch 34/50, Train Loss: 0.0396, Train ACC: 0.9952, Val Loss: 0.2330, Val ACC: 0.9500\n",
      "Epoch 35/50, Train Loss: 0.0528, Train ACC: 0.9810, Val Loss: 0.2389, Val ACC: 0.9333\n",
      "Epoch 36/50, Train Loss: 0.0677, Train ACC: 0.9714, Val Loss: 0.2179, Val ACC: 0.9167\n",
      "Epoch 37/50, Train Loss: 0.0696, Train ACC: 0.9714, Val Loss: 0.2594, Val ACC: 0.9500\n",
      "Epoch 38/50, Train Loss: 0.0379, Train ACC: 0.9905, Val Loss: 0.2233, Val ACC: 0.9500\n",
      "Epoch 39/50, Train Loss: 0.0540, Train ACC: 0.9810, Val Loss: 0.2368, Val ACC: 0.9500\n",
      "Epoch 40/50, Train Loss: 0.0291, Train ACC: 0.9905, Val Loss: 0.2140, Val ACC: 0.9500\n",
      "Epoch 41/50, Train Loss: 0.0350, Train ACC: 0.9905, Val Loss: 0.2122, Val ACC: 0.9500\n",
      "Epoch 42/50, Train Loss: 0.0417, Train ACC: 0.9810, Val Loss: 0.2496, Val ACC: 0.9333\n",
      "Epoch 43/50, Train Loss: 0.0211, Train ACC: 1.0000, Val Loss: 0.2637, Val ACC: 0.9167\n",
      "Epoch 44/50, Train Loss: 0.0359, Train ACC: 0.9857, Val Loss: 0.2653, Val ACC: 0.9000\n",
      "Epoch 45/50, Train Loss: 0.0334, Train ACC: 0.9857, Val Loss: 0.2395, Val ACC: 0.9333\n",
      "Epoch 46/50, Train Loss: 0.0231, Train ACC: 0.9952, Val Loss: 0.2226, Val ACC: 0.9333\n",
      "Epoch 47/50, Train Loss: 0.0459, Train ACC: 0.9714, Val Loss: 0.2390, Val ACC: 0.9500\n",
      "Epoch 48/50, Train Loss: 0.0147, Train ACC: 1.0000, Val Loss: 0.2422, Val ACC: 0.9333\n",
      "Epoch 49/50, Train Loss: 0.0341, Train ACC: 0.9905, Val Loss: 0.2353, Val ACC: 0.9333\n",
      "Epoch 50/50, Train Loss: 0.0290, Train ACC: 0.9952, Val Loss: 0.2157, Val ACC: 0.9500\n"
     ]
    }
   ],
   "source": [
    "#-- Train Model -------------------------------------------------------------------------------------------------\n",
    "train_losses = []\n",
    "train_accuracies = []\n",
    "val_losses = []\n",
    "val_accuracies = []\n",
    "\n",
    "best_model = None\n",
    "best_acc = 0\n",
    "\n",
    "for epoch in range(NUM_EPOCHS):\n",
    "    train_loss, train_acc = train(model, train_loader, optimizer, criterion)\n",
    "    val_loss, val_acc = evaluate(model, val_loader, criterion)    \n",
    "    \n",
    "    train_losses.append(train_loss)\n",
    "    train_accuracies.append(train_acc)\n",
    "    val_losses.append(val_loss)\n",
    "    val_accuracies.append(val_acc)\n",
    "    \n",
    "    if val_acc> best_acc:\n",
    "        best_acc = val_acc\n",
    "        best_model = copy.deepcopy(model)       \n",
    "        \n",
    "    \n",
    "    print(f'Epoch {epoch+1}/{NUM_EPOCHS}, '\n",
    "          f'Train Loss: {train_loss:.4f}, Train ACC: {train_acc:.4f}, '\n",
    "          f'Val Loss: {val_loss:.4f}, Val ACC: {val_acc:.4f}')    \n",
    "    \n",
    "    \n",
    "last_model = copy.deepcopy(model)\n",
    "#-----------------------------------------------------------------------------------------------------------------"
   ]
  },
  {
   "cell_type": "code",
   "execution_count": 17,
   "id": "77b31cfe",
   "metadata": {
    "execution": {
     "iopub.execute_input": "2024-09-29T09:28:48.739726Z",
     "iopub.status.busy": "2024-09-29T09:28:48.738853Z",
     "iopub.status.idle": "2024-09-29T09:28:49.284693Z",
     "shell.execute_reply": "2024-09-29T09:28:49.283781Z"
    },
    "papermill": {
     "duration": 0.560347,
     "end_time": "2024-09-29T09:28:49.287153",
     "exception": false,
     "start_time": "2024-09-29T09:28:48.726806",
     "status": "completed"
    },
    "tags": []
   },
   "outputs": [
    {
     "name": "stdout",
     "output_type": "stream",
     "text": [
      "range(1, 51)\n"
     ]
    },
    {
     "data": {
      "image/png": "[encoded data removed]",
      "text/plain": [
       "<Figure size 1400x500 with 2 Axes>"
      ]
     },
     "metadata": {},
     "output_type": "display_data"
    }
   ],
   "source": [
    "#-- Plot ACC and Loss --------------------------------------------------------------------------------------------\n",
    "epochs = range(1, NUM_EPOCHS+1)\n",
    "print(epochs)\n",
    "\n",
    "plt.figure(figsize=(14, 5))\n",
    "\n",
    "# Plot training & validation loss\n",
    "plt.subplot(1, 2, 1)\n",
    "plt.plot(epochs, train_losses, 'bo-', label='Train Loss')\n",
    "plt.plot(epochs, val_losses, 'ro-', label='Val Loss')\n",
    "plt.title('Training and Validation Loss')\n",
    "plt.xlabel('Epochs')\n",
    "plt.ylabel('Loss')\n",
    "plt.legend()\n",
    "\n",
    "# Plot training & validation accuracy\n",
    "plt.subplot(1, 2, 2)\n",
    "plt.plot(epochs, train_accuracies, 'bo-', label='Train Accuracy')\n",
    "plt.plot(epochs, val_accuracies, 'ro-', label='Val Accuracy')\n",
    "plt.title('Training and Validation Accuracy')\n",
    "plt.xlabel('Epochs')\n",
    "plt.ylabel('Accuracy')\n",
    "plt.legend()\n",
    "\n",
    "plt.show()\n",
    "#-----------------------------------------------------------------------------------------------------------------"
   ]
  },
  {
   "cell_type": "code",
   "execution_count": 18,
   "id": "ba85f901",
   "metadata": {
    "execution": {
     "iopub.execute_input": "2024-09-29T09:28:49.312451Z",
     "iopub.status.busy": "2024-09-29T09:28:49.312133Z",
     "iopub.status.idle": "2024-09-29T09:28:52.402683Z",
     "shell.execute_reply": "2024-09-29T09:28:52.401207Z"
    },
    "papermill": {
     "duration": 3.105706,
     "end_time": "2024-09-29T09:28:52.405160",
     "exception": false,
     "start_time": "2024-09-29T09:28:49.299454",
     "status": "completed"
    },
    "tags": []
   },
   "outputs": [
    {
     "name": "stdout",
     "output_type": "stream",
     "text": [
      "Final Test Accuracy: 0.9000\n"
     ]
    }
   ],
   "source": [
    "#--Evaluate Model On Test Data --------------------------------------------------------------------------------\n",
    "test_loss, test_acc = evaluate(best_model, test_loader, criterion)\n",
    "print(f'Final Test Accuracy: {test_acc:.4f}')\n",
    "#---------------------------------------------------------------------------------------------------------------"
   ]
  }
 ],
 "metadata": {
  "kaggle": {
   "accelerator": "nvidiaTeslaT4",
   "dataSources": [
    {
     "sourceId": 198733848,
     "sourceType": "kernelVersion"
    }
   ],
   "dockerImageVersionId": 30775,
   "isGpuEnabled": true,
   "isInternetEnabled": true,
   "language": "python",
   "sourceType": "notebook"
  },
  "kernelspec": {
   "display_name": "Python 3",
   "language": "python",
   "name": "python3"
  },
  "language_info": {
   "codemirror_mode": {
    "name": "ipython",
    "version": 3
   },
   "file_extension": ".py",
   "mimetype": "text/x-python",
   "name": "python",
   "nbconvert_exporter": "python",
   "pygments_lexer": "ipython3",
   "version": "3.10.14"
  },
  "papermill": {
   "default_parameters": {},
   "duration": 1394.218756,
   "end_time": "2024-09-29T09:28:54.739761",
   "environment_variables": {},
   "exception": null,
   "input_path": "__notebook__.ipynb",
   "output_path": "__notebook__.ipynb",
   "parameters": {},
   "start_time": "2024-09-29T09:05:40.521005",
   "version": "2.6.0"
  }
 },
 "nbformat": 4,
 "nbformat_minor": 5
}
